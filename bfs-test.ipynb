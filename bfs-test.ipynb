{
 "cells": [
  {
   "cell_type": "code",
   "execution_count": null,
   "metadata": {},
   "outputs": [],
   "source": [
    "from owslib.wfs import WebFeatureService"
   ]
  },
  {
   "cell_type": "code",
   "execution_count": null,
   "metadata": {},
   "outputs": [],
   "source": [
    "wfs11 = WebFeatureService(url='https://www.imis.bfs.de/ogc/opendata/ows', version='1.1.0')\n",
    "wfs11.identification.title"
   ]
  },
  {
   "cell_type": "code",
   "execution_count": null,
   "metadata": {},
   "outputs": [],
   "source": [
    "[operation.name for operation in wfs11.operations]"
   ]
  },
  {
   "cell_type": "code",
   "execution_count": null,
   "metadata": {},
   "outputs": [],
   "source": [
    "list(wfs11.contents)"
   ]
  },
  {
   "cell_type": "code",
   "execution_count": null,
   "metadata": {},
   "outputs": [],
   "source": [
    "wfs11.get_schema('odlinfo_timeseries_precipitation_15min')"
   ]
  },
  {
   "cell_type": "code",
   "execution_count": null,
   "metadata": {},
   "outputs": [],
   "source": [
    "import xml.dom.minidom # WFS returns GML - this library is used to parse it\n",
    "\n",
    "response = wfs11.getfeature(typename='opendata:odlinfo_timeseries_precipitation_15min', bbox=(7.089845,45.253298,12.166505,55.075436), srsname='EPSG:4326')\n",
    "xml = xml.dom.minidom.parse(response) # or xml.dom.minidom.parseString(xml_string)\n",
    "print(xml.toprettyxml(indent=\"    \"))"
   ]
  },
  {
   "cell_type": "code",
   "execution_count": null,
   "metadata": {},
   "outputs": [],
   "source": [
    "import xml.dom.minidom # WFS returns GML - this library is used to parse it\n",
    "\n",
    "response = wfs11.getfeature(typename='opendata:odlinfo_timeseries_odl_24h', bbox=(7.089845,45.253298,12.166505,55.075436), srsname='EPSG:4326',maxfeatures=5)\n",
    "xml = xml.dom.minidom.parse(response) # or xml.dom.minidom.parseString(xml_string)\n",
    "print(xml.toprettyxml(indent=\"    \"))"
   ]
  },
  {
   "cell_type": "code",
   "execution_count": null,
   "metadata": {},
   "outputs": [],
   "source": [
    "from owslib.fes import *\n",
    "from owslib.etree import etree\n",
    "import xml.dom.minidom # WFS returns GML - this library is used to parse it\n",
    "\n",
    "# apply filter by property name and value\n",
    "filter = property\n",
    "filter=PropertyIsGreaterThanOrEqualTo(propertyname='opendata:end_measure', literal='2021-07-29T00:00:000Z')\n",
    "filterxml = etree.tostring(filter.toXML()).decode(\"utf-8\")\n",
    "\n",
    "response = wfs11.getfeature(typename='odlinfo_timeseries_odl_24h',filter = filterxml, maxfeatures=5)\n",
    "\n",
    "xml = xml.dom.minidom.parse(response) # or xml.dom.minidom.parseString(xml_string)\n",
    "print(xml.toprettyxml(indent=\"    \"))"
   ]
  },
  {
   "cell_type": "code",
   "execution_count": null,
   "metadata": {},
   "outputs": [],
   "source": [
    "from owslib.fes import *\n",
    "from owslib.etree import etree\n",
    "import xml.dom.minidom # WFS returns GML - this library is used to parse it\n",
    "\n",
    "# apply filter by property name and value\n",
    "filter = PropertyIsLike(propertyname='opendata:nuclide', literal='Cs-137', wildCard='*')\n",
    "filterxml = etree.tostring(filter.toXML()).decode(\"utf-8\")\n",
    "\n",
    "response = wfs11.getfeature(typename='opendata:nuklide_fleisch',filter = filterxml, maxfeatures=5)\n",
    "\n",
    "xml = xml.dom.minidom.parse(response) # or xml.dom.minidom.parseString(xml_string)\n",
    "print(xml.toprettyxml(indent=\"    \"))"
   ]
  },
  {
   "cell_type": "code",
   "execution_count": null,
   "metadata": {},
   "outputs": [],
   "source": [
    "import json\n",
    "\n",
    "response = wfs11.getfeature(typename='opendata:nuklide_fleisch',bbox=(7.089845,45.253298,12.166505,55.075436), srsname='EPSG:4326', outputFormat='application%2Fjson',maxfeatures=200)\n",
    "# convert IO-byte to bytes\n",
    "bytesD=bytes(response.read())\n",
    "# convert to json\n",
    "data = json.loads(bytesD)\n",
    "print(data)"
   ]
  },
  {
   "cell_type": "code",
   "execution_count": null,
   "metadata": {},
   "outputs": [],
   "source": [
    "from owslib.fes import *\n",
    "from owslib.etree import etree\n",
    "import json\n",
    "\n",
    "#apply filter by property name and value\n",
    "filter = PropertyIsLike(propertyname='name', literal='Flensburg', wildCard='*')\n",
    "filterxml = etree.tostring(filter.toXML()).decode(\"utf-8\")\n",
    "#get feature\n",
    "response = wfs11.getfeature(typename='opendata:odlinfo_timeseries_odl_1h', filter=filterxml,bbox=(7.089845,45.253298,12.166505,55.075436), srsname='EPSG:4326', outputFormat='application%2Fjson',maxfeatures=5)\n",
    "\n",
    "bytesD=bytes(response.read())# convert IO-byte to bytes\n",
    "data = json.loads(bytesD)# load json\n",
    "print(data)"
   ]
  },
  {
   "cell_type": "code",
   "execution_count": null,
   "metadata": {},
   "outputs": [],
   "source": [
    "import json # WFS returns GML - this library is used to parse it\n",
    "from owslib.fes import *\n",
    "from owslib.etree import etree\n",
    "\n",
    "#apply multifilter\n",
    "filterxml = \"<ogc:Filter><ogc:PropertyIsEqualTo><ogc:PropertyName>name</ogc:PropertyName><ogc:Literal>Flensburg</ogc:Literal></ogc:PropertyIsEqualTo><ogc:PropertyIsEqualTo><ogc:PropertyName>Kenn</ogc:PropertyName><ogc:Literal>010010001</ogc:Literal></ogc:PropertyIsEqualTo></ogc:Filter>\"   # create the filter for the species\n",
    "#filter = PropertyIsGreaterThan(propertyname='value', literal='3')\n",
    "#filter = PropertyIsLessThan(propertyname='end_measure', literal='2022-07-28T15:00:00Z') and PropertyIsLike(propertyname='locality_name', literal='Lögow', wildCard='*')\n",
    "#filter = PropertyIsLessThanOrEqualTo(propertyname='opendata:end_measure', literal='2022-07-23T19:00:000Z')\n",
    "#filter = PropertyIsEqualTo(propertyname='kenn', literal='083370490')\n",
    "#filter = PropertyIsLike(propertyname='opendata:name', literal='Krün OT Elmau', wildCard='*')\n",
    "#filter = PropertyIsLike(propertyname='bez_gem', literal='Ingolstadt', wildCard='*')\n",
    "#WebFeatureService_1_1_0.getfeature(self, typename, filter, bbox, featureid, featureversion, propertyname, maxfeatures, srsname, outputFormat, method, startindex, sortby)\n",
    "\n",
    "#filterxml = etree.tostring(filter.toXML()).decode(\"utf-8\")\n",
    "\n",
    "response = wfs11.getfeature(typename='opendata:odlinfo_timeseries_precipitation_15min', filter=filterxml, maxfeatures=5, outputFormat='application/json', method='get')\n",
    "# convert IO-byte to bytes\n",
    "bytesD=bytes(response.read())\n",
    "# Load json\n",
    "data = json.loads(bytesD)\n",
    "print(data)"
   ]
  },
  {
   "cell_type": "code",
   "execution_count": null,
   "metadata": {},
   "outputs": [],
   "source": [
    "#save geojson in qgis\n",
    "import geojson\n",
    "\n",
    "outFileName='geotest.geojson'\n",
    "geom_in_geojson = geojson.Feature(geometry=data, properties={})\n",
    "outFile=open(outFileName, \"w\")\n",
    "with open(outFileName, 'w') as outfile:\n",
    "      geojson.dump(geom_in_geojson, outfile)\n",
    "outFile.close()\n"
   ]
  },
  {
   "cell_type": "code",
   "execution_count": null,
   "metadata": {},
   "outputs": [],
   "source": [
    "#save geojson and add layer in qgis\n",
    "import os # This is is needed in the pyqgis console also\n",
    "from qgis.core import (\n",
    "    QgsVectorLayer\n",
    ")\n",
    "from qgis.core import QgsProject\n",
    "\n",
    "# get the path to the shapefile e.g. /home/project/data/ports.shp\n",
    "path_to_layer = \"geotest.geojson\"\n",
    "\n",
    "# The format is:\n",
    "# vlayer = QgsVectorLayer(data_source, layer_name, provider_name)\n",
    "\n",
    "vlayer = QgsVectorLayer(path_to_layer, \"bfsgeo\", \"ogr\")\n",
    "if not vlayer.isValid():\n",
    "    print(\"Layer failed to load!\")\n",
    "else:\n",
    "    QgsProject.instance().addMapLayer(vlayer)"
   ]
  },
  {
   "cell_type": "code",
   "execution_count": null,
   "metadata": {},
   "outputs": [],
   "source": [
    "#save json to show in qgis\n",
    "import json\n",
    "with open('data.json', 'w', encoding='utf-8') as f:\n",
    "    json.dump(data, f, ensure_ascii=False, indent=4)"
   ]
  },
  {
   "cell_type": "code",
   "execution_count": null,
   "metadata": {},
   "outputs": [],
   "source": [
    "\n",
    "import pandas as pd\n",
    "from matplotlib import pyplot as plt\n",
    "import requests\n",
    "import json\n",
    "\n",
    "\n",
    "\n",
    "#df = pd.DataFrame(data=data)\n",
    "#print(df)\n",
    "\n",
    "# using pandas for serializing\n",
    "df= pd.json_normalize(data,\"features\")\n",
    "print(df)\n",
    "\n",
    "dfg = df.groupby('properties.id').count()\n",
    "print(dfg)\n",
    "# using matplotlib scatter chart\n",
    "plt.bar(dfg.index, dfg['properties.value'], width=0.5, color=\"maroon\")\n",
    "plt.show()\n",
    "\n",
    "# using pandas plot\n",
    "dfg.plot()"
   ]
  }
 ],
 "metadata": {
  "kernelspec": {
   "display_name": "Python 3.10.4 64-bit",
   "language": "python",
   "name": "python3"
  },
  "language_info": {
   "codemirror_mode": {
    "name": "ipython",
    "version": 3
   },
   "file_extension": ".py",
   "mimetype": "text/x-python",
   "name": "python",
   "nbconvert_exporter": "python",
   "pygments_lexer": "ipython3",
   "version": "3.10.4"
  },
  "orig_nbformat": 4,
  "vscode": {
   "interpreter": {
    "hash": "916dbcbb3f70747c44a77c7bcd40155683ae19c65e1c03b4aa3499c5328201f1"
   }
  }
 },
 "nbformat": 4,
 "nbformat_minor": 2
}
