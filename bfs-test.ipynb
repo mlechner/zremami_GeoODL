{
 "cells": [
  {
   "cell_type": "code",
   "execution_count": 50,
   "metadata": {},
   "outputs": [],
   "source": [
    "from owslib.wfs import WebFeatureService"
   ]
  },
  {
   "cell_type": "code",
   "execution_count": 121,
   "metadata": {},
   "outputs": [
    {
     "data": {
      "text/plain": [
       "'BfS Download'"
      ]
     },
     "execution_count": 121,
     "metadata": {},
     "output_type": "execute_result"
    }
   ],
   "source": [
    "wfs11 = WebFeatureService(url='https://www.imis.bfs.de/ogc/opendata/ows', version='1.1.0')\n",
    "wfs11.identification.title"
   ]
  },
  {
   "cell_type": "code",
   "execution_count": 122,
   "metadata": {},
   "outputs": [
    {
     "data": {
      "text/plain": [
       "['GetCapabilities',\n",
       " 'DescribeFeatureType',\n",
       " 'GetFeature',\n",
       " 'GetGmlObject',\n",
       " 'LockFeature',\n",
       " 'GetFeatureWithLock',\n",
       " 'Transaction']"
      ]
     },
     "execution_count": 122,
     "metadata": {},
     "output_type": "execute_result"
    }
   ],
   "source": [
    "[operation.name for operation in wfs11.operations]"
   ]
  },
  {
   "cell_type": "code",
   "execution_count": 123,
   "metadata": {},
   "outputs": [
    {
     "data": {
      "text/plain": [
       "['opendata:abi_30min',\n",
       " 'opendata:abi_30min_barchart',\n",
       " 'opendata:abi_30min_barchart_store',\n",
       " 'opendata:abi_30min_timeseries',\n",
       " 'opendata:bfg_gesamt_gamma',\n",
       " 'opendata:bfg_sondenstandorte',\n",
       " 'opendata:bfs_locations',\n",
       " 'opendata:bsh_gesamt_gamma_kuenstlich',\n",
       " 'opendata:bsh_gesamt_gamma_kuenstlich_timeseries',\n",
       " 'opendata:bsh_sondenstandorte',\n",
       " 'opendata:eurdep_latestValue',\n",
       " 'opendata:eurdep_maxValue',\n",
       " 'opendata:bfg_gesamt_gamma_timeseries',\n",
       " 'opendata:new_dwd_alphabeta_kuenstl_24h',\n",
       " 'opendata:new_dwd_alphabeta_kuenstl_24h_timeseries',\n",
       " 'opendata:new_dwd_gamma_aerosole_24h_nuclide',\n",
       " 'opendata:new_dwd_iod_24h',\n",
       " 'opendata:new_dwd_iod_24h_timeseries',\n",
       " 'opendata:new_dwd_niederschlag_24h',\n",
       " 'opendata:new_dwd_niederschlag_24h_timeseries',\n",
       " 'opendata:new_dwd_niederschlag_ges_beta_24h_verz',\n",
       " 'opendata:new_dwd_niederschlag_ges_beta_24h_verz_timeseries',\n",
       " 'opendata:new_gamma_aerosole_24h',\n",
       " 'opendata:new_gamma_aerosole_24h_timeseries',\n",
       " 'opendata:new_nuklide_bodenoberflaeche',\n",
       " 'opendata:nuklide_abfall',\n",
       " 'opendata:nuklide_abwasser',\n",
       " 'opendata:nuklide_boden',\n",
       " 'opendata:nuklide_fisch',\n",
       " 'opendata:nuklide_fleisch',\n",
       " 'opendata:nuklide_futtermittel',\n",
       " 'opendata:nuklide_gemuese',\n",
       " 'opendata:nuklide_gesamtnahrung',\n",
       " 'opendata:nuklide_getreide',\n",
       " 'opendata:nuklide_gewaesser',\n",
       " 'opendata:nuklide_grund_rohwasser',\n",
       " 'opendata:nuklide_milch',\n",
       " 'opendata:nuklide_obst',\n",
       " 'opendata:nuklide_pflanzliche_indikatoren',\n",
       " 'opendata:nuklide_pilze',\n",
       " 'opendata:nuklide_schwebstoffe',\n",
       " 'opendata:nuklide_sedimente',\n",
       " 'opendata:nuklide_sonstige_nahrungsmittel',\n",
       " 'opendata:nuklide_trinkwasser',\n",
       " 'opendata:nuklide_weide_wiese',\n",
       " 'opendata:odl_brutto_1h',\n",
       " 'opendata:odl_brutto_1h_timeseries',\n",
       " 'opendata:odl_brutto_1h_voronoi',\n",
       " 'opendata:odl_brutto_24h_timeseries',\n",
       " 'opendata:odl_sondenstandorte',\n",
       " 'opendata:odlinfo_odl_1h_latest',\n",
       " 'opendata:odlinfo_odl_1h_latest_OLD',\n",
       " 'opendata:odlinfo_sitelist',\n",
       " 'opendata:odlinfo_timeseries_odl_1h',\n",
       " 'opendata:odlinfo_timeseries_odl_24h',\n",
       " 'opendata:odlinfo_timeseries_precipitation_15min',\n",
       " 'opendata:radon222_boden_rfv_risikokommunikation',\n",
       " 'opendata:radonpotential',\n",
       " 'opendata:radonvorsorgegebiete',\n",
       " 'opendata:uv_index',\n",
       " 'opendata:uv_index_tagesverlauf',\n",
       " 'opendata:uv_index_timeseries',\n",
       " 'opendata:vg_250']"
      ]
     },
     "execution_count": 123,
     "metadata": {},
     "output_type": "execute_result"
    }
   ],
   "source": [
    "list(wfs11.contents)"
   ]
  },
  {
   "cell_type": "code",
   "execution_count": 124,
   "metadata": {},
   "outputs": [
    {
     "data": {
      "text/plain": [
       "{'properties': {'id': 'string',\n",
       "  'locality_name': 'string',\n",
       "  'start': 'dateTime',\n",
       "  'end_measure': 'dateTime',\n",
       "  'unit': 'string',\n",
       "  'value_e': 'string',\n",
       "  'value': 'decimal',\n",
       "  'nuclide': 'string',\n",
       "  'duration': 'string',\n",
       "  'dom': 'string',\n",
       "  'source': 'string',\n",
       "  'network_id': 'string'},\n",
       " 'required': ['id', 'locality_name', 'end_measure', 'network_id'],\n",
       " 'geometry': 'Point',\n",
       " 'geometry_column': 'geom'}"
      ]
     },
     "execution_count": 124,
     "metadata": {},
     "output_type": "execute_result"
    }
   ],
   "source": [
    "wfs11.get_schema('opendata:odl_brutto_1h')"
   ]
  },
  {
   "cell_type": "code",
   "execution_count": 139,
   "metadata": {},
   "outputs": [],
   "source": [
    "from owslib.fes import *\n",
    "from owslib.etree import etree\n",
    "\n",
    "#filter = PropertyIsLike(propertyname='locality_name', literal='Lögow', wildCard='*')\n",
    "#filter = PropertyIsLike(propertyname='nuclide', literal='Gamma-ODL-Brutto', wildCard='*')\n",
    "filter = PropertyIsEqualTo(propertyname='value', literal='0.074', matchcase=True)\n",
    "#filter = PropertyIsGreaterThanOrEqualTo(propertyname='end_measure', literal='2022-07-13 15:43:12.948085', matchcase=True)\n",
    "filterxml = etree.tostring(filter.toXML()).decode(\"utf-8\")\n",
    "\n",
    "response = wfs11.getfeature(\n",
    "    typename= 'opendata:odl_brutto_1h', \n",
    "    filter= filterxml,\n",
    "\n",
    ")\n",
    "\n",
    "out = open('/tmp/data.gml', 'wb')\n",
    "out.write(bytes(response.read(), 'UTF-8'))\n",
    "out.close()"
   ]
  }
 ],
 "metadata": {
  "kernelspec": {
   "display_name": "Python 3.10.4 64-bit",
   "language": "python",
   "name": "python3"
  },
  "language_info": {
   "codemirror_mode": {
    "name": "ipython",
    "version": 3
   },
   "file_extension": ".py",
   "mimetype": "text/x-python",
   "name": "python",
   "nbconvert_exporter": "python",
   "pygments_lexer": "ipython3",
   "version": "3.10.4"
  },
  "orig_nbformat": 4,
  "vscode": {
   "interpreter": {
    "hash": "916dbcbb3f70747c44a77c7bcd40155683ae19c65e1c03b4aa3499c5328201f1"
   }
  }
 },
 "nbformat": 4,
 "nbformat_minor": 2
}
